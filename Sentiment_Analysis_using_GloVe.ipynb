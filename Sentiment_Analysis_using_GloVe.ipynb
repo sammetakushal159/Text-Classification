{
  "cells": [
    {
      "cell_type": "markdown",
      "metadata": {
        "id": "view-in-github",
        "colab_type": "text"
      },
      "source": [
        "<a href=\"https://colab.research.google.com/github/sammetakushal159/Text-Classification/blob/main/Sentiment_Analysis_using_GloVe.ipynb\" target=\"_parent\"><img src=\"https://colab.research.google.com/assets/colab-badge.svg\" alt=\"Open In Colab\"/></a>"
      ]
    },
    {
      "cell_type": "code",
      "execution_count": null,
      "metadata": {
        "id": "XXVz0opTTcpR"
      },
      "outputs": [],
      "source": [
        "import tensorflow as tf\n",
        "from tensorflow import keras\n",
        "import numpy as np\n",
        "import pandas as pd\n",
        "import os\n",
        "from keras.preprocessing.text import Tokenizer\n",
        "import matplotlib.pyplot as plt\n",
        "import re\n",
        "from sklearn.model_selection import train_test_split\n",
        "from keras.backend import concatenate\n",
        "from keras import Sequential\n",
        "from keras import layers\n",
        "from keras import models\n",
        "from keras.layers import Embedding,Conv2D,MaxPooling2D,Dense,Flatten,AveragePooling1D\n",
        "from keras.layers import Conv2DTranspose,UpSampling2D,Dropout\n",
        "from keras.layers import Conv1D,MaxPooling1D\n",
        "from keras.layers import Conv1DTranspose,UpSampling1D\n",
        "from keras.callbacks import ModelCheckpoint,EarlyStopping,CSVLogger\n",
        "from traitlets.traitlets import validate\n",
        "from sklearn.metrics import confusion_matrix, classification_report\n",
        "import seaborn as sn"
      ]
    },
    {
      "cell_type": "code",
      "execution_count": null,
      "metadata": {
        "colab": {
          "base_uri": "https://localhost:8080/"
        },
        "id": "ADVyz6MMTAy3",
        "outputId": "902fd3dd-8f80-4894-8aaf-dcbdd5590605"
      },
      "outputs": [
        {
          "output_type": "stream",
          "name": "stdout",
          "text": [
            "Mounted at /content/drive\n"
          ]
        }
      ],
      "source": [
        "from google.colab import drive\n",
        "drive.mount('/content/drive')"
      ]
    },
    {
      "cell_type": "code",
      "execution_count": null,
      "metadata": {
        "id": "EzR4NlMMeFix"
      },
      "outputs": [],
      "source": [
        "GloVe = \"/content/drive/MyDrive/glove.6B.100d.txt\""
      ]
    },
    {
      "cell_type": "code",
      "execution_count": null,
      "metadata": {
        "id": "gv-huP0GZv26"
      },
      "outputs": [],
      "source": [
        "max_len = 256\n",
        "embedding_dim = 100\n",
        "max_words = 400000"
      ]
    },
    {
      "cell_type": "code",
      "execution_count": null,
      "metadata": {
        "id": "vFd6JDiLn9Zg"
      },
      "outputs": [],
      "source": [
        "datadir = \"/content/drive/MyDrive/twitter_data.csv\"\n",
        "\n",
        "data = pd.read_csv(datadir,encoding='latin-1',names=[\"sentiment\" ,\"id\", \"date\",\"No_query\",\"@mention\",\"text\"])\n",
        "\n",
        "data = data.sample(frac = 1)"
      ]
    },
    {
      "cell_type": "code",
      "execution_count": null,
      "metadata": {
        "colab": {
          "base_uri": "https://localhost:8080/",
          "height": 206
        },
        "id": "hEuSd0XoqYWK",
        "outputId": "ea0034d2-9951-43fc-c724-82270c4e01c7"
      },
      "outputs": [
        {
          "output_type": "execute_result",
          "data": {
            "text/plain": [
              "         sentiment                                               text\n",
              "156251           0  @rucha_334 but I couldn't follow them as I hav...\n",
              "1179769          4  http://bit.ly/nx3pM . &lt;--My Zeeshirts busin...\n",
              "1390023          4                @langwitches - That sounds v. nice \n",
              "1147097          4  Just saw Hugh Jackman's ass. And today was a g...\n",
              "1213832          4  @themosaicist yeap! and this year's kumang gaw..."
            ],
            "text/html": [
              "\n",
              "  <div id=\"df-72c59bc9-373b-4da5-9ab4-43a31a9ed654\">\n",
              "    <div class=\"colab-df-container\">\n",
              "      <div>\n",
              "<style scoped>\n",
              "    .dataframe tbody tr th:only-of-type {\n",
              "        vertical-align: middle;\n",
              "    }\n",
              "\n",
              "    .dataframe tbody tr th {\n",
              "        vertical-align: top;\n",
              "    }\n",
              "\n",
              "    .dataframe thead th {\n",
              "        text-align: right;\n",
              "    }\n",
              "</style>\n",
              "<table border=\"1\" class=\"dataframe\">\n",
              "  <thead>\n",
              "    <tr style=\"text-align: right;\">\n",
              "      <th></th>\n",
              "      <th>sentiment</th>\n",
              "      <th>text</th>\n",
              "    </tr>\n",
              "  </thead>\n",
              "  <tbody>\n",
              "    <tr>\n",
              "      <th>156251</th>\n",
              "      <td>0</td>\n",
              "      <td>@rucha_334 but I couldn't follow them as I hav...</td>\n",
              "    </tr>\n",
              "    <tr>\n",
              "      <th>1179769</th>\n",
              "      <td>4</td>\n",
              "      <td>http://bit.ly/nx3pM . &amp;lt;--My Zeeshirts busin...</td>\n",
              "    </tr>\n",
              "    <tr>\n",
              "      <th>1390023</th>\n",
              "      <td>4</td>\n",
              "      <td>@langwitches - That sounds v. nice</td>\n",
              "    </tr>\n",
              "    <tr>\n",
              "      <th>1147097</th>\n",
              "      <td>4</td>\n",
              "      <td>Just saw Hugh Jackman's ass. And today was a g...</td>\n",
              "    </tr>\n",
              "    <tr>\n",
              "      <th>1213832</th>\n",
              "      <td>4</td>\n",
              "      <td>@themosaicist yeap! and this year's kumang gaw...</td>\n",
              "    </tr>\n",
              "  </tbody>\n",
              "</table>\n",
              "</div>\n",
              "      <button class=\"colab-df-convert\" onclick=\"convertToInteractive('df-72c59bc9-373b-4da5-9ab4-43a31a9ed654')\"\n",
              "              title=\"Convert this dataframe to an interactive table.\"\n",
              "              style=\"display:none;\">\n",
              "        \n",
              "  <svg xmlns=\"http://www.w3.org/2000/svg\" height=\"24px\"viewBox=\"0 0 24 24\"\n",
              "       width=\"24px\">\n",
              "    <path d=\"M0 0h24v24H0V0z\" fill=\"none\"/>\n",
              "    <path d=\"M18.56 5.44l.94 2.06.94-2.06 2.06-.94-2.06-.94-.94-2.06-.94 2.06-2.06.94zm-11 1L8.5 8.5l.94-2.06 2.06-.94-2.06-.94L8.5 2.5l-.94 2.06-2.06.94zm10 10l.94 2.06.94-2.06 2.06-.94-2.06-.94-.94-2.06-.94 2.06-2.06.94z\"/><path d=\"M17.41 7.96l-1.37-1.37c-.4-.4-.92-.59-1.43-.59-.52 0-1.04.2-1.43.59L10.3 9.45l-7.72 7.72c-.78.78-.78 2.05 0 2.83L4 21.41c.39.39.9.59 1.41.59.51 0 1.02-.2 1.41-.59l7.78-7.78 2.81-2.81c.8-.78.8-2.07 0-2.86zM5.41 20L4 18.59l7.72-7.72 1.47 1.35L5.41 20z\"/>\n",
              "  </svg>\n",
              "      </button>\n",
              "      \n",
              "  <style>\n",
              "    .colab-df-container {\n",
              "      display:flex;\n",
              "      flex-wrap:wrap;\n",
              "      gap: 12px;\n",
              "    }\n",
              "\n",
              "    .colab-df-convert {\n",
              "      background-color: #E8F0FE;\n",
              "      border: none;\n",
              "      border-radius: 50%;\n",
              "      cursor: pointer;\n",
              "      display: none;\n",
              "      fill: #1967D2;\n",
              "      height: 32px;\n",
              "      padding: 0 0 0 0;\n",
              "      width: 32px;\n",
              "    }\n",
              "\n",
              "    .colab-df-convert:hover {\n",
              "      background-color: #E2EBFA;\n",
              "      box-shadow: 0px 1px 2px rgba(60, 64, 67, 0.3), 0px 1px 3px 1px rgba(60, 64, 67, 0.15);\n",
              "      fill: #174EA6;\n",
              "    }\n",
              "\n",
              "    [theme=dark] .colab-df-convert {\n",
              "      background-color: #3B4455;\n",
              "      fill: #D2E3FC;\n",
              "    }\n",
              "\n",
              "    [theme=dark] .colab-df-convert:hover {\n",
              "      background-color: #434B5C;\n",
              "      box-shadow: 0px 1px 3px 1px rgba(0, 0, 0, 0.15);\n",
              "      filter: drop-shadow(0px 1px 2px rgba(0, 0, 0, 0.3));\n",
              "      fill: #FFFFFF;\n",
              "    }\n",
              "  </style>\n",
              "\n",
              "      <script>\n",
              "        const buttonEl =\n",
              "          document.querySelector('#df-72c59bc9-373b-4da5-9ab4-43a31a9ed654 button.colab-df-convert');\n",
              "        buttonEl.style.display =\n",
              "          google.colab.kernel.accessAllowed ? 'block' : 'none';\n",
              "\n",
              "        async function convertToInteractive(key) {\n",
              "          const element = document.querySelector('#df-72c59bc9-373b-4da5-9ab4-43a31a9ed654');\n",
              "          const dataTable =\n",
              "            await google.colab.kernel.invokeFunction('convertToInteractive',\n",
              "                                                     [key], {});\n",
              "          if (!dataTable) return;\n",
              "\n",
              "          const docLinkHtml = 'Like what you see? Visit the ' +\n",
              "            '<a target=\"_blank\" href=https://colab.research.google.com/notebooks/data_table.ipynb>data table notebook</a>'\n",
              "            + ' to learn more about interactive tables.';\n",
              "          element.innerHTML = '';\n",
              "          dataTable['output_type'] = 'display_data';\n",
              "          await google.colab.output.renderOutput(dataTable, element);\n",
              "          const docLink = document.createElement('div');\n",
              "          docLink.innerHTML = docLinkHtml;\n",
              "          element.appendChild(docLink);\n",
              "        }\n",
              "      </script>\n",
              "    </div>\n",
              "  </div>\n",
              "  "
            ]
          },
          "metadata": {},
          "execution_count": 6
        }
      ],
      "source": [
        "data.drop('id', axis=1, inplace=True)\n",
        "data.drop('date', axis=1, inplace=True)\n",
        "data.drop('No_query', axis=1, inplace=True)\n",
        "data.drop('@mention', axis=1, inplace=True)\n",
        "data.head(5)"
      ]
    },
    {
      "cell_type": "code",
      "execution_count": null,
      "metadata": {
        "id": "S5yfyOj-qazs"
      },
      "outputs": [],
      "source": [
        "data['senti']=data['sentiment'].apply(lambda x: 1 if x==4 else 0)"
      ]
    },
    {
      "cell_type": "code",
      "execution_count": null,
      "metadata": {
        "id": "qdqv9UPEqdob"
      },
      "outputs": [],
      "source": [
        "def text_cleaning(text):\n",
        "  text = re.sub(r'@[A-Za-z0-9]+', '', text)                         # removing @mentions\n",
        "  text = re.sub(r'@[A-Za-zA-Z0-9]+', '', text)                      # removing @mentions\n",
        "  text = re.sub(r'@[A-Za-z-_]+', '', text)                          # removing @mentions\n",
        "  text = re.sub(r'@[-_]+', '', text)                                # removing @mentions\n",
        "  text = re.sub(r'#', '', text )                                    # removing '#' sign\n",
        "  text = re.sub(r'RT[\\s]+', '', text)                               # removing RT\n",
        "  text = re.sub(r'https?\\/\\/\\S+', '', text)                         # removing the hyper link\n",
        "  text = re.sub(r'(?:\\@|http?\\://|https?\\://|www)\\S+', '', text)    # removing the hyper link\n",
        "  text = re.sub(r'http?\\/\\/\\S+', '', text)                          # removing the hyper link\n",
        "  text = re.sub(r'&[a-z;]+', '', text)                              # removing '&gt;'\n",
        "\n",
        "  return text"
      ]
    },
    {
      "cell_type": "code",
      "execution_count": null,
      "metadata": {
        "colab": {
          "base_uri": "https://localhost:8080/",
          "height": 363
        },
        "id": "UHoyY3bdqnXl",
        "outputId": "3c6ad99e-495e-4498-e4f3-0e373abdef01"
      },
      "outputs": [
        {
          "output_type": "execute_result",
          "data": {
            "text/plain": [
              "         sentiment                                               text  senti\n",
              "156251           0  _334 but I couldn't follow them as I have reac...      0\n",
              "1179769          4   . --My Zeeshirts business update! Support me ...      1\n",
              "1390023          4                             - That sounds v. nice       1\n",
              "1147097          4  Just saw Hugh Jackman's ass. And today was a g...      1\n",
              "1213832          4   yeap! and this year's kumang gawai is... ME!!...      1\n",
              "639506           0                           It's hot  i can't sleep       0\n",
              "158641           0  Waking up nauseous and with and headache... nice       0\n",
              "912249           4  was in Palawan a couple of days ago, i'll try ...      1\n",
              "1104568          4  At work till 11am and then to ALC premier loca...      1\n",
              "1066042          4   the best luck from your fans   it isn't late....      1"
            ],
            "text/html": [
              "\n",
              "  <div id=\"df-f627f811-09c4-44c2-9081-97d65f7df5af\">\n",
              "    <div class=\"colab-df-container\">\n",
              "      <div>\n",
              "<style scoped>\n",
              "    .dataframe tbody tr th:only-of-type {\n",
              "        vertical-align: middle;\n",
              "    }\n",
              "\n",
              "    .dataframe tbody tr th {\n",
              "        vertical-align: top;\n",
              "    }\n",
              "\n",
              "    .dataframe thead th {\n",
              "        text-align: right;\n",
              "    }\n",
              "</style>\n",
              "<table border=\"1\" class=\"dataframe\">\n",
              "  <thead>\n",
              "    <tr style=\"text-align: right;\">\n",
              "      <th></th>\n",
              "      <th>sentiment</th>\n",
              "      <th>text</th>\n",
              "      <th>senti</th>\n",
              "    </tr>\n",
              "  </thead>\n",
              "  <tbody>\n",
              "    <tr>\n",
              "      <th>156251</th>\n",
              "      <td>0</td>\n",
              "      <td>_334 but I couldn't follow them as I have reac...</td>\n",
              "      <td>0</td>\n",
              "    </tr>\n",
              "    <tr>\n",
              "      <th>1179769</th>\n",
              "      <td>4</td>\n",
              "      <td>. --My Zeeshirts business update! Support me ...</td>\n",
              "      <td>1</td>\n",
              "    </tr>\n",
              "    <tr>\n",
              "      <th>1390023</th>\n",
              "      <td>4</td>\n",
              "      <td>- That sounds v. nice</td>\n",
              "      <td>1</td>\n",
              "    </tr>\n",
              "    <tr>\n",
              "      <th>1147097</th>\n",
              "      <td>4</td>\n",
              "      <td>Just saw Hugh Jackman's ass. And today was a g...</td>\n",
              "      <td>1</td>\n",
              "    </tr>\n",
              "    <tr>\n",
              "      <th>1213832</th>\n",
              "      <td>4</td>\n",
              "      <td>yeap! and this year's kumang gawai is... ME!!...</td>\n",
              "      <td>1</td>\n",
              "    </tr>\n",
              "    <tr>\n",
              "      <th>639506</th>\n",
              "      <td>0</td>\n",
              "      <td>It's hot  i can't sleep</td>\n",
              "      <td>0</td>\n",
              "    </tr>\n",
              "    <tr>\n",
              "      <th>158641</th>\n",
              "      <td>0</td>\n",
              "      <td>Waking up nauseous and with and headache... nice</td>\n",
              "      <td>0</td>\n",
              "    </tr>\n",
              "    <tr>\n",
              "      <th>912249</th>\n",
              "      <td>4</td>\n",
              "      <td>was in Palawan a couple of days ago, i'll try ...</td>\n",
              "      <td>1</td>\n",
              "    </tr>\n",
              "    <tr>\n",
              "      <th>1104568</th>\n",
              "      <td>4</td>\n",
              "      <td>At work till 11am and then to ALC premier loca...</td>\n",
              "      <td>1</td>\n",
              "    </tr>\n",
              "    <tr>\n",
              "      <th>1066042</th>\n",
              "      <td>4</td>\n",
              "      <td>the best luck from your fans   it isn't late....</td>\n",
              "      <td>1</td>\n",
              "    </tr>\n",
              "  </tbody>\n",
              "</table>\n",
              "</div>\n",
              "      <button class=\"colab-df-convert\" onclick=\"convertToInteractive('df-f627f811-09c4-44c2-9081-97d65f7df5af')\"\n",
              "              title=\"Convert this dataframe to an interactive table.\"\n",
              "              style=\"display:none;\">\n",
              "        \n",
              "  <svg xmlns=\"http://www.w3.org/2000/svg\" height=\"24px\"viewBox=\"0 0 24 24\"\n",
              "       width=\"24px\">\n",
              "    <path d=\"M0 0h24v24H0V0z\" fill=\"none\"/>\n",
              "    <path d=\"M18.56 5.44l.94 2.06.94-2.06 2.06-.94-2.06-.94-.94-2.06-.94 2.06-2.06.94zm-11 1L8.5 8.5l.94-2.06 2.06-.94-2.06-.94L8.5 2.5l-.94 2.06-2.06.94zm10 10l.94 2.06.94-2.06 2.06-.94-2.06-.94-.94-2.06-.94 2.06-2.06.94z\"/><path d=\"M17.41 7.96l-1.37-1.37c-.4-.4-.92-.59-1.43-.59-.52 0-1.04.2-1.43.59L10.3 9.45l-7.72 7.72c-.78.78-.78 2.05 0 2.83L4 21.41c.39.39.9.59 1.41.59.51 0 1.02-.2 1.41-.59l7.78-7.78 2.81-2.81c.8-.78.8-2.07 0-2.86zM5.41 20L4 18.59l7.72-7.72 1.47 1.35L5.41 20z\"/>\n",
              "  </svg>\n",
              "      </button>\n",
              "      \n",
              "  <style>\n",
              "    .colab-df-container {\n",
              "      display:flex;\n",
              "      flex-wrap:wrap;\n",
              "      gap: 12px;\n",
              "    }\n",
              "\n",
              "    .colab-df-convert {\n",
              "      background-color: #E8F0FE;\n",
              "      border: none;\n",
              "      border-radius: 50%;\n",
              "      cursor: pointer;\n",
              "      display: none;\n",
              "      fill: #1967D2;\n",
              "      height: 32px;\n",
              "      padding: 0 0 0 0;\n",
              "      width: 32px;\n",
              "    }\n",
              "\n",
              "    .colab-df-convert:hover {\n",
              "      background-color: #E2EBFA;\n",
              "      box-shadow: 0px 1px 2px rgba(60, 64, 67, 0.3), 0px 1px 3px 1px rgba(60, 64, 67, 0.15);\n",
              "      fill: #174EA6;\n",
              "    }\n",
              "\n",
              "    [theme=dark] .colab-df-convert {\n",
              "      background-color: #3B4455;\n",
              "      fill: #D2E3FC;\n",
              "    }\n",
              "\n",
              "    [theme=dark] .colab-df-convert:hover {\n",
              "      background-color: #434B5C;\n",
              "      box-shadow: 0px 1px 3px 1px rgba(0, 0, 0, 0.15);\n",
              "      filter: drop-shadow(0px 1px 2px rgba(0, 0, 0, 0.3));\n",
              "      fill: #FFFFFF;\n",
              "    }\n",
              "  </style>\n",
              "\n",
              "      <script>\n",
              "        const buttonEl =\n",
              "          document.querySelector('#df-f627f811-09c4-44c2-9081-97d65f7df5af button.colab-df-convert');\n",
              "        buttonEl.style.display =\n",
              "          google.colab.kernel.accessAllowed ? 'block' : 'none';\n",
              "\n",
              "        async function convertToInteractive(key) {\n",
              "          const element = document.querySelector('#df-f627f811-09c4-44c2-9081-97d65f7df5af');\n",
              "          const dataTable =\n",
              "            await google.colab.kernel.invokeFunction('convertToInteractive',\n",
              "                                                     [key], {});\n",
              "          if (!dataTable) return;\n",
              "\n",
              "          const docLinkHtml = 'Like what you see? Visit the ' +\n",
              "            '<a target=\"_blank\" href=https://colab.research.google.com/notebooks/data_table.ipynb>data table notebook</a>'\n",
              "            + ' to learn more about interactive tables.';\n",
              "          element.innerHTML = '';\n",
              "          dataTable['output_type'] = 'display_data';\n",
              "          await google.colab.output.renderOutput(dataTable, element);\n",
              "          const docLink = document.createElement('div');\n",
              "          docLink.innerHTML = docLinkHtml;\n",
              "          element.appendChild(docLink);\n",
              "        }\n",
              "      </script>\n",
              "    </div>\n",
              "  </div>\n",
              "  "
            ]
          },
          "metadata": {},
          "execution_count": 9
        }
      ],
      "source": [
        "data['text'] = data['text'].apply(text_cleaning)\n",
        "data.head(10)"
      ]
    },
    {
      "cell_type": "code",
      "execution_count": null,
      "metadata": {
        "id": "hUyv_Izyq1bG"
      },
      "outputs": [],
      "source": [
        "texts = data['text']\n",
        "labels = data['senti']"
      ]
    },
    {
      "cell_type": "code",
      "execution_count": null,
      "metadata": {
        "id": "cZfCpJJDnLrd"
      },
      "outputs": [],
      "source": [
        "tokenizer = Tokenizer(num_words=max_words)\n",
        "tokenizer.fit_on_texts(texts)\n",
        "sequences = tokenizer.texts_to_sequences(texts)\n",
        "\n",
        "word_index = tokenizer.word_index\n",
        "\n",
        "data_fi = keras.preprocessing.sequence.pad_sequences(sequences, maxlen=max_len,padding='post')"
      ]
    },
    {
      "cell_type": "code",
      "execution_count": null,
      "metadata": {
        "colab": {
          "base_uri": "https://localhost:8080/"
        },
        "id": "sA9I33GHHwDo",
        "outputId": "3b24f281-514b-4cfa-8e09-d878ae90a590"
      },
      "outputs": [
        {
          "output_type": "stream",
          "name": "stdout",
          "text": [
            "319266\n"
          ]
        }
      ],
      "source": [
        "voc_size = len(tokenizer.word_index) +1\n",
        "print(voc_size)"
      ]
    },
    {
      "cell_type": "code",
      "execution_count": null,
      "metadata": {
        "id": "HiyP7jVYsd71"
      },
      "outputs": [],
      "source": [
        "X_train,X_test,Y_train,Y_test = train_test_split(data_fi,labels,test_size=0.2)\n",
        "\n",
        "X_test,X_val,Y_test,Y_val = train_test_split(X_test,Y_test,test_size=0.5)"
      ]
    },
    {
      "cell_type": "code",
      "execution_count": null,
      "metadata": {
        "id": "tUxI0xCQUlti"
      },
      "outputs": [],
      "source": [
        "embedding_index = {}\n",
        "\n",
        "f = open(GloVe, encoding=\"utf8\")\n",
        "for line in f:\n",
        "  values = line.split()\n",
        "  word = values[0]\n",
        "  coefs = np.asarray (values [1:], dtype= 'float32')\n",
        "  embedding_index[word] =  coefs\n",
        "f.close ()"
      ]
    },
    {
      "cell_type": "code",
      "execution_count": null,
      "metadata": {
        "id": "GQADMVH7ZPxB"
      },
      "outputs": [],
      "source": [
        "embedding_matrix = np.zeros((voc_size, embedding_dim))\n",
        "\n",
        "for word,i in word_index.items():\n",
        "  embedding_vector = embedding_index.get(word)\n",
        "  if embedding_vector is not None:\n",
        "    embedding_matrix[i] = embedding_vector"
      ]
    },
    {
      "cell_type": "code",
      "execution_count": null,
      "metadata": {
        "colab": {
          "base_uri": "https://localhost:8080/"
        },
        "id": "dEdnFQU-tNwv",
        "outputId": "6f9d5e13-fbc5-411f-a583-aa663a77a6d4"
      },
      "outputs": [
        {
          "output_type": "stream",
          "name": "stdout",
          "text": [
            "Model: \"sequential\"\n",
            "_________________________________________________________________\n",
            " Layer (type)                Output Shape              Param #   \n",
            "=================================================================\n",
            " embedding (Embedding)       (None, 256, 100)          31926600  \n",
            "                                                                 \n",
            " conv1d (Conv1D)             (None, 252, 64)           32064     \n",
            "                                                                 \n",
            " conv1d_1 (Conv1D)           (None, 250, 32)           6176      \n",
            "                                                                 \n",
            " conv1d_2 (Conv1D)           (None, 250, 16)           528       \n",
            "                                                                 \n",
            " flatten (Flatten)           (None, 4000)              0         \n",
            "                                                                 \n",
            " dense (Dense)               (None, 1)                 4001      \n",
            "                                                                 \n",
            "=================================================================\n",
            "Total params: 31,969,369\n",
            "Trainable params: 31,969,369\n",
            "Non-trainable params: 0\n",
            "_________________________________________________________________\n"
          ]
        }
      ],
      "source": [
        "model = Sequential ()\n",
        "model.add(Embedding(voc_size, embedding_dim, input_length=max_len))\n",
        "model.add(Conv1D(filters=64, kernel_size=(5) ,activation='relu'))\n",
        "model.add(Conv1D(filters=32, kernel_size=(3) ,activation='relu'))\n",
        "model.add(Conv1D(filters=16, kernel_size=(1) ,activation='relu'))\n",
        "model.add(Flatten ())\n",
        "#model.add(Dense (32, activation='relu'))\n",
        "model.add(Dense (1, activation='sigmoid'))\n",
        "\n",
        "model.summary()"
      ]
    },
    {
      "cell_type": "code",
      "execution_count": null,
      "metadata": {
        "id": "YrrOYthntgI_"
      },
      "outputs": [],
      "source": [
        "model.layers[0].set_weights([embedding_matrix])\n",
        "model.layers[0].trainable = False"
      ]
    },
    {
      "cell_type": "code",
      "execution_count": null,
      "metadata": {
        "id": "ekYk4CjMtoug"
      },
      "outputs": [],
      "source": [
        "METRICS = [tf.keras.metrics.BinaryAccuracy(name='accuracy'),tf.keras.metrics.Precision(name='precision'),tf.keras.metrics.Recall(name='recall')]\n",
        "\n",
        "model.compile(optimizer='adam',loss='binary_crossentropy',metrics=METRICS)"
      ]
    },
    {
      "cell_type": "code",
      "execution_count": null,
      "metadata": {
        "colab": {
          "base_uri": "https://localhost:8080/"
        },
        "id": "v-M0yYJpttoz",
        "outputId": "be341ae9-4d28-4016-f7ac-fe13cc0df8b2"
      },
      "outputs": [
        {
          "output_type": "stream",
          "name": "stdout",
          "text": [
            "Epoch 1/10\n",
            "40000/40000 [==============================] - 191s 4ms/step - loss: 0.4815 - accuracy: 0.7680 - precision: 0.7615 - recall: 0.7803 - val_loss: 0.4542 - val_accuracy: 0.7884 - val_precision: 0.7957 - val_recall: 0.7769\n",
            "Epoch 2/10\n",
            "40000/40000 [==============================] - 176s 4ms/step - loss: 0.4484 - accuracy: 0.7903 - precision: 0.7819 - recall: 0.8049 - val_loss: 0.4451 - val_accuracy: 0.7908 - val_precision: 0.7682 - val_recall: 0.8339\n",
            "Epoch 3/10\n",
            "40000/40000 [==============================] - 184s 5ms/step - loss: 0.4376 - accuracy: 0.7968 - precision: 0.7881 - recall: 0.8117 - val_loss: 0.4417 - val_accuracy: 0.7920 - val_precision: 0.7662 - val_recall: 0.8413\n",
            "Epoch 4/10\n",
            "40000/40000 [==============================] - 178s 4ms/step - loss: 0.4310 - accuracy: 0.8007 - precision: 0.7923 - recall: 0.8147 - val_loss: 0.4353 - val_accuracy: 0.7971 - val_precision: 0.7905 - val_recall: 0.8091\n",
            "Epoch 5/10\n",
            "40000/40000 [==============================] - 177s 4ms/step - loss: 0.4266 - accuracy: 0.8035 - precision: 0.7951 - recall: 0.8175 - val_loss: 0.4473 - val_accuracy: 0.7868 - val_precision: 0.7463 - val_recall: 0.8698\n",
            "Epoch 6/10\n",
            "40000/40000 [==============================] - 174s 4ms/step - loss: 0.4232 - accuracy: 0.8053 - precision: 0.7967 - recall: 0.8196 - val_loss: 0.4329 - val_accuracy: 0.7992 - val_precision: 0.7877 - val_recall: 0.8197\n",
            "Epoch 7/10\n",
            "40000/40000 [==============================] - 175s 4ms/step - loss: 0.4202 - accuracy: 0.8073 - precision: 0.7988 - recall: 0.8214 - val_loss: 0.4373 - val_accuracy: 0.7995 - val_precision: 0.8102 - val_recall: 0.7830\n",
            "Epoch 8/10\n",
            "40000/40000 [==============================] - 177s 4ms/step - loss: 0.4182 - accuracy: 0.8084 - precision: 0.7999 - recall: 0.8224 - val_loss: 0.4321 - val_accuracy: 0.8007 - val_precision: 0.7902 - val_recall: 0.8195\n",
            "Epoch 9/10\n",
            "40000/40000 [==============================] - 174s 4ms/step - loss: 0.4162 - accuracy: 0.8096 - precision: 0.8013 - recall: 0.8233 - val_loss: 0.4374 - val_accuracy: 0.7959 - val_precision: 0.7659 - val_recall: 0.8532\n",
            "Epoch 10/10\n",
            "40000/40000 [==============================] - 185s 5ms/step - loss: 0.4143 - accuracy: 0.8107 - precision: 0.8022 - recall: 0.8246 - val_loss: 0.4320 - val_accuracy: 0.8010 - val_precision: 0.7984 - val_recall: 0.8061\n"
          ]
        }
      ],
      "source": [
        "history = model.fit(X_train,Y_train,validation_data=(X_val,Y_val),epochs=10)"
      ]
    },
    {
      "cell_type": "code",
      "execution_count": null,
      "metadata": {
        "id": "ZnqtHxuiuOuH",
        "colab": {
          "base_uri": "https://localhost:8080/"
        },
        "outputId": "8b87f69f-3622-471b-847e-8eb79c36978a"
      },
      "outputs": [
        {
          "output_type": "stream",
          "name": "stdout",
          "text": [
            "5000/5000 [==============================] - 9s 2ms/step\n"
          ]
        }
      ],
      "source": [
        "y_predicted = model.predict(X_test)"
      ]
    },
    {
      "cell_type": "code",
      "execution_count": null,
      "metadata": {
        "id": "vH-2HqU4x-8m"
      },
      "outputs": [],
      "source": [
        "y_predicted = y_predicted.flatten()\n",
        "y_predicted = np.where(y_predicted > 0.5, 1, 0)"
      ]
    },
    {
      "cell_type": "code",
      "execution_count": null,
      "metadata": {
        "id": "WLKYGZJiyFJ_",
        "colab": {
          "base_uri": "https://localhost:8080/",
          "height": 467
        },
        "outputId": "38f1b9f2-a1ac-4f3d-8177-1bc8d07e582e"
      },
      "outputs": [
        {
          "output_type": "execute_result",
          "data": {
            "text/plain": [
              "Text(50.722222222222214, 0.5, 'Truth')"
            ]
          },
          "metadata": {},
          "execution_count": 22
        },
        {
          "output_type": "display_data",
          "data": {
            "text/plain": [
              "<Figure size 640x480 with 2 Axes>"
            ],
            "image/png": "[encoded data removed]"
          },
          "metadata": {}
        }
      ],
      "source": [
        "cm = confusion_matrix(Y_test, y_predicted)\n",
        "\n",
        "sn.heatmap(cm, annot=True, fmt='d')\n",
        "plt.xlabel('Predicted')\n",
        "plt.ylabel('Truth')"
      ]
    },
    {
      "cell_type": "code",
      "execution_count": null,
      "metadata": {
        "id": "2GD9I6jgyMUU"
      },
      "outputs": [],
      "source": []
    }
  ],
  "metadata": {
    "colab": {
      "provenance": [],
      "gpuType": "T4",
      "include_colab_link": true
    },
    "kernelspec": {
      "display_name": "Python 3",
      "name": "python3"
    },
    "language_info": {
      "codemirror_mode": {
        "name": "ipython",
        "version": 3
      },
      "file_extension": ".py",
      "mimetype": "text/x-python",
      "name": "python",
      "nbconvert_exporter": "python",
      "pygments_lexer": "ipython3",
      "version": "3.8.5"
    },
    "accelerator": "GPU"
  },
  "nbformat": 4,
  "nbformat_minor": 0
}